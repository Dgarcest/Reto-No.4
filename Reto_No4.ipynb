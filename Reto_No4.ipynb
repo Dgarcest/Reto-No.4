{
 "cells": [
  {
   "cell_type": "code",
   "execution_count": 29,
   "metadata": {},
   "outputs": [
    {
     "name": "stdout",
     "output_type": "stream",
     "text": [
      "El numero 4 NO corresponde al codigo ASCII de una vocal minúscula\n"
     ]
    }
   ],
   "source": [
    "numero = int(input(\"Ingrese el numero: \"))\n",
    "\n",
    "vocal = chr(numero)\n",
    "\n",
    "if vocal == \"a\" or vocal == \"e\" or vocal == \"i\" or vocal == \"o\" or vocal == \"u\":\n",
    "    print(f\"El numero {numero} corresponde al codigo ASCII de una vocal minúscula\")\n",
    "\n",
    "else:\n",
    "    print(f\"El numero {numero} NO corresponde al codigo ASCII de una vocal minúscula\")"
   ]
  },
  {
   "cell_type": "code",
   "execution_count": 30,
   "metadata": {},
   "outputs": [
    {
     "name": "stdout",
     "output_type": "stream",
     "text": [
      "El código ASCII del caracter es par\n"
     ]
    }
   ],
   "source": [
    "cadena = str(input(\"Ingrese su caracter: \"))\n",
    "\n",
    "if len(cadena) != 1:\n",
    "    print(\"La cadena tiene mas de un caracter\")\n",
    "\n",
    "else:\n",
    "    codigo_ascii = ord(cadena)\n",
    "\n",
    "    if codigo_ascii % 2 == 0:\n",
    "        print(\"El código ASCII del caracter es par\")\n",
    "\n",
    "    else:\n",
    "        print(\"El código ASCII del caracter NO es par\")"
   ]
  },
  {
   "cell_type": "code",
   "execution_count": 41,
   "metadata": {},
   "outputs": [
    {
     "name": "stdout",
     "output_type": "stream",
     "text": [
      "El caracter 8 es un digito\n"
     ]
    }
   ],
   "source": [
    "caracter = str(input(\"Escriba su caracter: \"))\n",
    "\n",
    "if caracter==\"0\" or caracter==\"1\" or caracter==\"2\" or caracter==\"3\" or caracter==\"4\" or caracter==\"5\" or caracter==\"6\" or caracter==\"7\" or caracter==\"8\" or caracter==\"9\":\n",
    "    print(f\"El caracter {caracter} es un digito\")\n",
    "\n",
    "else:\n",
    "    print(f\"El caracter {caracter} NO es un digito\")"
   ]
  },
  {
   "cell_type": "code",
   "execution_count": 9,
   "metadata": {},
   "outputs": [
    {
     "name": "stdout",
     "output_type": "stream",
     "text": [
      "El número 5.0 es positivo\n"
     ]
    }
   ],
   "source": [
    "numero = float(input(\"Ingrese el número\"))\n",
    "\n",
    "if numero>0:\n",
    "    print(f\"El número {numero} es positivo\")\n",
    "\n",
    "elif numero<0:\n",
    "    print(f\"El número {numero} es negativo\")\n",
    "\n",
    "else:\n",
    "    print(f\"el número {numero} es el neutro para la suma\")"
   ]
  },
  {
   "cell_type": "code",
   "execution_count": 60,
   "metadata": {},
   "outputs": [
    {
     "name": "stdout",
     "output_type": "stream",
     "text": [
      "El punto se encuentra al interior del circulo\n"
     ]
    }
   ],
   "source": [
    "centro_x = float(input(\"Ingrese el centro del circulo (coordenada en x): \"))\n",
    "centro_y = float(input(\"Ingrese el centro del circulo (coordenada en y): \"))\n",
    "radio = float(input(\"Ingrese el radio del circulo: \"))\n",
    "punto_x = float(input(\"Ingrese un punto (coordenada en x): \"))\n",
    "punto_y = float(input(\"Ingrese un punto (coordenada en y): \"))\n",
    "\n",
    "if (punto_x-centro_x)**2 + (punto_y-centro_y)**2 == radio**2 or (punto_x-centro_x)**2 + (punto_y-centro_y)**2 < radio**2:\n",
    "    print(\"El punto se encuentra al interior del circulo\")\n",
    "\n",
    "else:\n",
    "    print(\"El punto esta afuera del circulo\")"
   ]
  },
  {
   "cell_type": "code",
   "execution_count": 1,
   "metadata": {},
   "outputs": [
    {
     "name": "stdout",
     "output_type": "stream",
     "text": [
      "Con las 3 longitudes se puede construir un triangulo (escaleno)\n"
     ]
    }
   ],
   "source": [
    "longitud_1 = float(input(\"Ingrese la primera longitud: \"))\n",
    "longitud_2 = float(input(\"Ingrese la segunda longitud: \"))\n",
    "longitud_3 = float(input(\"Ingrese la tercera longitud: \"))\n",
    "\n",
    "if longitud_1 == longitud_2 == longitud_3:\n",
    "    print(\"Con las 3 longitudes se puede construir un triangulo (equilatero)\")\n",
    "\n",
    "elif longitud_1 == longitud_2 and longitud_3<longitud_1+longitud_2:\n",
    "    print(\"Con las 3 longitudes se puede construir un triangulo (isosceles)\")\n",
    "\n",
    "elif longitud_2 == longitud_3 and longitud_1<longitud_2+longitud_3:\n",
    "    print(\"Con las 3 longitudes se puede construir un triangulo (isosceles)\")\n",
    "\n",
    "elif longitud_1 == longitud_3 and longitud_2<longitud_1+longitud_3:\n",
    "    print(\"Con las 3 longitudes se puede construir un triangulo (isosceles)\")\n",
    "\n",
    "elif longitud_1<longitud_2+longitud_3 and longitud_2<longitud_1+longitud_3 and longitud_3<longitud_1+longitud_2:\n",
    "    print(\"Con las 3 longitudes se puede construir un triangulo (escaleno)\")\n",
    "\n",
    "else:\n",
    "    print(\"Con las 3 longitudes NO se puede contruir ningún triangulo\")"
   ]
  }
 ],
 "metadata": {
  "kernelspec": {
   "display_name": "Python 3",
   "language": "python",
   "name": "python3"
  },
  "language_info": {
   "codemirror_mode": {
    "name": "ipython",
    "version": 3
   },
   "file_extension": ".py",
   "mimetype": "text/x-python",
   "name": "python",
   "nbconvert_exporter": "python",
   "pygments_lexer": "ipython3",
   "version": "3.12.0"
  }
 },
 "nbformat": 4,
 "nbformat_minor": 2
}
